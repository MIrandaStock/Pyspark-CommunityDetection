{
 "cells": [
  {
   "cell_type": "code",
   "execution_count": 1,
   "metadata": {},
   "outputs": [],
   "source": [
    "import findspark\n",
    "findspark.init()\n",
    "\n",
    "from pyspark.sql import SparkSession\n",
    "from pyspark.sql import Row\n",
    "from pyspark import SparkContext, SparkConf\n",
    "from graphframes import GraphFrame\n",
    "import time"
   ]
  },
  {
   "cell_type": "code",
   "execution_count": 2,
   "metadata": {},
   "outputs": [],
   "source": [
    "#初始化并读取所有数据\n",
    "#conf = SparkConf().setAppName(\"MySpark\").setMaster(\"local[*]\")\n",
    "#sc = SparkContext(conf=conf)\n",
    "#lines = sc.textFile('twitter_combined.txt')\n",
    "spark = SparkSession.builder.appName(\"MySpark\").getOrCreate()\n",
    "sc = spark.sparkContext\n",
    "lines = sc.textFile('twitter_sub.txt')"
   ]
  },
  {
   "cell_type": "code",
   "execution_count": 3,
   "metadata": {},
   "outputs": [
    {
     "name": "stdout",
     "output_type": "stream",
     "text": [
      "+---+---------+\n",
      "| id|     name|\n",
      "+---+---------+\n",
      "|  0| 17116707|\n",
      "|  1| 28465635|\n",
      "|  2|380580781|\n",
      "|  3| 18996905|\n",
      "|  4|153460275|\n",
      "|  5|222261763|\n",
      "|  6| 88323281|\n",
      "|  7| 19933035|\n",
      "|  8| 17434613|\n",
      "|  9|364971269|\n",
      "| 10|100581193|\n",
      "| 11|279787626|\n",
      "| 12| 69592091|\n",
      "| 13|187773078|\n",
      "| 14|262802533|\n",
      "| 15|280935165|\n",
      "| 16|285312927|\n",
      "| 17|254839786|\n",
      "| 18|204317520|\n",
      "| 19| 21548772|\n",
      "+---+---------+\n",
      "only showing top 20 rows\n",
      "\n"
     ]
    }
   ],
   "source": [
    "#提取所有实体并去重，然后转换成dataFrame\n",
    "entity = lines.flatMap(lambda x:x.split(' ')).distinct()\n",
    "entity_zip = entity.zipWithIndex()\n",
    "entity_row = entity_zip .map(lambda e: Row(id = e[1], name = e[0]))\n",
    "entity_table = spark.createDataFrame(entity_row) \n",
    "entity_table.show()"
   ]
  },
  {
   "cell_type": "code",
   "execution_count": 4,
   "metadata": {},
   "outputs": [
    {
     "data": {
      "text/plain": [
       "638"
      ]
     },
     "execution_count": 4,
     "metadata": {},
     "output_type": "execute_result"
    }
   ],
   "source": [
    "#实体数量\n",
    "entity.count()"
   ]
  },
  {
   "cell_type": "code",
   "execution_count": 5,
   "metadata": {},
   "outputs": [
    {
     "name": "stdout",
     "output_type": "stream",
     "text": [
      "+---+---+------------+\n",
      "|src|dst|relationship|\n",
      "+---+---+------------+\n",
      "|339|340|  concerned |\n",
      "|  0|  1|  concerned |\n",
      "|  2|  3|  concerned |\n",
      "|341|  4|  concerned |\n",
      "|342|343|  concerned |\n",
      "|344|  5|  concerned |\n",
      "|345|340|  concerned |\n",
      "|  5|  6|  concerned |\n",
      "|  7|346|  concerned |\n",
      "|347|  8|  concerned |\n",
      "|346|348|  concerned |\n",
      "|  9|348|  concerned |\n",
      "| 10| 11|  concerned |\n",
      "|349| 12|  concerned |\n",
      "|344| 13|  concerned |\n",
      "|350| 14|  concerned |\n",
      "|351|  6|  concerned |\n",
      "| 15|352|  concerned |\n",
      "|  5|353|  concerned |\n",
      "| 16|344|  concerned |\n",
      "+---+---+------------+\n",
      "only showing top 20 rows\n",
      "\n"
     ]
    }
   ],
   "source": [
    "#提取所有关系，然后转换成dataFrame（实体id，实体id，关系）\n",
    "entity_dict = dict(entity_zip .map(lambda e: (e[0], e[1])).collect())\n",
    "relation_row = lines.map(lambda x:x.split(' ')).map(lambda r: Row(src = entity_dict[r[0]], dst = entity_dict[r[1]],\\\n",
    "                                                                  relationship = 'concerned '))\n",
    "relation_table = spark.createDataFrame(relation_row) \n",
    "relation_table.show()"
   ]
  },
  {
   "cell_type": "code",
   "execution_count": 6,
   "metadata": {},
   "outputs": [
    {
     "data": {
      "text/plain": [
       "11604"
      ]
     },
     "execution_count": 6,
     "metadata": {},
     "output_type": "execute_result"
    }
   ],
   "source": [
    "#关系数量\n",
    "relation_row.count()"
   ]
  },
  {
   "cell_type": "code",
   "execution_count": 7,
   "metadata": {},
   "outputs": [],
   "source": [
    "#将提取出来的实体表和关系表写入csv文件夹，以供查看\n",
    "entity_table.toPandas().to_csv('entity2id.csv',encoding='utf_8_sig',index=False)\n",
    "relation_table.toPandas().to_csv('relation.csv',encoding='utf_8_sig',index=False)"
   ]
  },
  {
   "cell_type": "code",
   "execution_count": 8,
   "metadata": {},
   "outputs": [],
   "source": [
    "#构建Graph\n",
    "g = GraphFrame(entity_table, relation_table)"
   ]
  },
  {
   "cell_type": "code",
   "execution_count": 9,
   "metadata": {},
   "outputs": [
    {
     "name": "stdout",
     "output_type": "stream",
     "text": [
      "+---+--------+\n",
      "| id|inDegree|\n",
      "+---+--------+\n",
      "| 35|     174|\n",
      "| 47|     167|\n",
      "| 41|     160|\n",
      "|340|     159|\n",
      "|  3|     117|\n",
      "|364|     112|\n",
      "|353|     111|\n",
      "|343|     110|\n",
      "|388|     106|\n",
      "|359|     101|\n",
      "+---+--------+\n",
      "only showing top 10 rows\n",
      "\n"
     ]
    }
   ],
   "source": [
    "#入度取前10展示\n",
    "g.inDegrees.sort(\"inDegree\",ascending=False).show(10)"
   ]
  },
  {
   "cell_type": "code",
   "execution_count": 10,
   "metadata": {},
   "outputs": [
    {
     "name": "stdout",
     "output_type": "stream",
     "text": [
      "+---+---------+------------------+\n",
      "| id|     name|          pagerank|\n",
      "+---+---------+------------------+\n",
      "| 35| 40981798| 9.571762777234309|\n",
      "| 47| 43003845| 8.536144105795914|\n",
      "|230|  7861312| 7.479196505734391|\n",
      "| 41| 22462180| 7.092325211932122|\n",
      "|340| 34428380|7.0908748071041465|\n",
      "|353| 27633075| 5.410156272908095|\n",
      "|514| 25970331| 5.396491631422866|\n",
      "|364| 31331740| 5.349122654587942|\n",
      "| 72|133055665| 5.105792570054932|\n",
      "|359|  8088112|  5.01979464154914|\n",
      "+---+---------+------------------+\n",
      "only showing top 10 rows\n",
      "\n",
      "PageRank算法用时:7.063082933425903\n"
     ]
    }
   ],
   "source": [
    "#使用PageRank算法选出重要用户\n",
    "tic = time.time()\n",
    "result = g.pageRank(resetProbability=0.15, maxIter=5)\n",
    "result.vertices.sort('pagerank',ascending=False).show(10)\n",
    "toc = time.time()\n",
    "print(\"PageRank算法用时:\" + str(toc-tic))"
   ]
  },
  {
   "cell_type": "code",
   "execution_count": 16,
   "metadata": {},
   "outputs": [
    {
     "name": "stdout",
     "output_type": "stream",
     "text": [
      "+---+---------+-----+\n",
      "| id|     name|label|\n",
      "+---+---------+-----+\n",
      "|348|153226312|   23|\n",
      "|415| 55033682|   23|\n",
      "|385| 57490887|   23|\n",
      "| 19| 21548772|   23|\n",
      "|112|102765423|   23|\n",
      "|367|430268163|   23|\n",
      "| 65| 86221475|   23|\n",
      "|418|186212304|   23|\n",
      "|442|273149543|   23|\n",
      "| 54|220068522|   23|\n",
      "+---+---------+-----+\n",
      "only showing top 10 rows\n",
      "\n",
      "LPA算法用时:2.697854518890381\n"
     ]
    }
   ],
   "source": [
    "#使用LPA算法来做社区发现（CommunityDetection）\n",
    "tic = time.time()\n",
    "results = g.labelPropagation(maxIter=5)\n",
    "results.orderBy('label').show(10)\n",
    "toc = time.time()\n",
    "print(\"LPA算法用时:\" + str(toc-tic))"
   ]
  },
  {
   "cell_type": "code",
   "execution_count": 18,
   "metadata": {},
   "outputs": [],
   "source": [
    "#将结果写入csv文件夹，以供查看\n",
    "results.toPandas().to_csv('results.csv',encoding='utf_8_sig',index=False)"
   ]
  },
  {
   "cell_type": "code",
   "execution_count": 26,
   "metadata": {},
   "outputs": [
    {
     "data": {
      "text/plain": [
       "[Row(label=487, count=31),\n",
       " Row(label=227, count=2),\n",
       " Row(label=621, count=1),\n",
       " Row(label=246, count=2),\n",
       " Row(label=307, count=2),\n",
       " Row(label=328, count=2),\n",
       " Row(label=185, count=2),\n",
       " Row(label=550, count=193),\n",
       " Row(label=89, count=1),\n",
       " Row(label=254, count=1),\n",
       " Row(label=451, count=67),\n",
       " Row(label=559, count=1),\n",
       " Row(label=478, count=13),\n",
       " Row(label=83, count=15),\n",
       " Row(label=514, count=78),\n",
       " Row(label=286, count=1),\n",
       " Row(label=313, count=1),\n",
       " Row(label=312, count=1),\n",
       " Row(label=23, count=207),\n",
       " Row(label=633, count=1),\n",
       " Row(label=282, count=1),\n",
       " Row(label=469, count=15)]"
      ]
     },
     "execution_count": 26,
     "metadata": {},
     "output_type": "execute_result"
    }
   ],
   "source": [
    "#查看社区分类情况\n",
    "results.groupBy('label').count().collect()"
   ]
  },
  {
   "cell_type": "code",
   "execution_count": 27,
   "metadata": {},
   "outputs": [],
   "source": [
    "sc.stop()"
   ]
  },
  {
   "cell_type": "code",
   "execution_count": 28,
   "metadata": {},
   "outputs": [
    {
     "name": "stderr",
     "output_type": "stream",
     "text": [
      "[NbConvertApp] Converting notebook CommunityDetection.ipynb to python\n",
      "[NbConvertApp] Writing 2238 bytes to CommunityDetection.py\n"
     ]
    }
   ],
   "source": [
    "try:\n",
    "    !jupyter nbconvert --to python CommunityDetection\n",
    "except:\n",
    "    pass"
   ]
  }
 ],
 "metadata": {
  "kernelspec": {
   "display_name": "Python 3",
   "language": "python",
   "name": "python3"
  },
  "language_info": {
   "codemirror_mode": {
    "name": "ipython",
    "version": 3
   },
   "file_extension": ".py",
   "mimetype": "text/x-python",
   "name": "python",
   "nbconvert_exporter": "python",
   "pygments_lexer": "ipython3",
   "version": "3.7.6"
  }
 },
 "nbformat": 4,
 "nbformat_minor": 4
}
